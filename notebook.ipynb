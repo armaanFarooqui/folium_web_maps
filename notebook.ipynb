{
 "cells": [
  {
   "cell_type": "markdown",
   "id": "Hbol",
   "metadata": {
    "marimo": {
     "config": {
      "hide_code": true
     }
    }
   },
   "source": [
    "## Creating Interactive Web Maps Using Folium"
   ]
  },
  {
   "cell_type": "code",
   "execution_count": 13,
   "id": "MJUe",
   "metadata": {},
   "outputs": [],
   "source": [
    "import folium\n",
    "import geopandas as gpd\n",
    "import numpy as np"
   ]
  },
  {
   "cell_type": "markdown",
   "id": "vblA",
   "metadata": {
    "marimo": {
     "config": {
      "hide_code": true
     }
    }
   },
   "source": [
    "### Aligarh LULC Classification"
   ]
  },
  {
   "cell_type": "code",
   "execution_count": null,
   "id": "bkHC",
   "metadata": {},
   "outputs": [],
   "source": [
    "# Creating a base map\n",
    "m1 = folium.Map([27.89, 78.08], zoom_start=10)\n",
    "\n",
    "# Adding the raster\n",
    "img1 = folium.raster_layers.ImageOverlay(\n",
    "    name='Aligarh',\n",
    "    image='data/kmeans/aligarh_4326.png',\n",
    "    bounds=[[27.72, 77.95], [27.99, 78.28]],  \n",
    "    opacity=0.7,\n",
    "    zindex=1\n",
    "\n",
    ").add_to(m1)\n",
    "folium.LayerControl().add_to(m1)\n",
    "\n",
    "# Exporting the map\n",
    "m1.save('saved_maps/aligarh.html')"
   ]
  },
  {
   "cell_type": "markdown",
   "id": "lEQa",
   "metadata": {
    "marimo": {
     "config": {
      "hide_code": true
     }
    }
   },
   "source": [
    "### Almere LULC Classification"
   ]
  },
  {
   "cell_type": "code",
   "execution_count": null,
   "id": "PKri",
   "metadata": {},
   "outputs": [],
   "source": [
    "# Creating the base map\n",
    "m2 = folium.Map([52.35, 5.26], zoom_start=10)\n",
    "\n",
    "# Adding the raster\n",
    "img2 = folium.raster_layers.ImageOverlay(\n",
    "    name='Almere',\n",
    "    image='data/random_forest/almere_4326.png',\n",
    "    bounds=[[52.24, 5.12], [52.46, 5.55]],\n",
    "    opacity=0.9,\n",
    "    zindex=1\n",
    ").add_to(m2)\n",
    "folium.LayerControl().add_to(m2)\n",
    "\n",
    "# Exporting the map\n",
    "m2.save('saved_maps/almere.html')"
   ]
  },
  {
   "cell_type": "markdown",
   "id": "Xref",
   "metadata": {
    "marimo": {
     "config": {
      "hide_code": true
     }
    }
   },
   "source": [
    "### Comparing Rio Favelas\n",
    "#### Favelas in Rio"
   ]
  },
  {
   "cell_type": "code",
   "execution_count": null,
   "id": "SFPL",
   "metadata": {},
   "outputs": [],
   "source": [
    "# Importing the favelas geodataframe\n",
    "rio_exported = gpd.read_file('data/favelas/favelas_exported.geojson')\n",
    "\n",
    "# Creating the base map\n",
    "m3 = folium.Map([-22.90, -43.40], zoom_start=10)\n",
    "\n",
    "# Plotting the geodataframe\n",
    "folium.GeoJson(\n",
    "    rio_exported,\n",
    "    tooltip=folium.GeoJsonTooltip(\n",
    "        fields=['name', 'population'],\n",
    "        aliases=['Name', 'Population']\n",
    "    )\n",
    ").add_to(m3)\n",
    "\n",
    "# Exporting the map\n",
    "m3.save('saved_maps/favelas.html')"
   ]
  },
  {
   "cell_type": "markdown",
   "id": "BYtC",
   "metadata": {
    "marimo": {
     "config": {
      "hide_code": true
     }
    }
   },
   "source": [
    "#### Favelas and Building Density"
   ]
  },
  {
   "cell_type": "code",
   "execution_count": null,
   "id": "RGSE",
   "metadata": {},
   "outputs": [],
   "source": [
    "# Creating the base map\n",
    "m4 = folium.Map([-22.90, -43.40], zoom_start=10)\n",
    "\n",
    "# Data selection for choropleth mapping\n",
    "choropleth_1 = rio_exported.set_index('id')['building_pct']\n",
    "\n",
    "# Adding the choropleth layer\n",
    "folium.Choropleth(\n",
    "    geo_data=rio_exported,\n",
    "    data=choropleth_1,\n",
    "    key_on='feature.id',\n",
    "    fill_color='RdBu_r',\n",
    "    fill_opacity=0.8,\n",
    "    line_opacity=0.2,\n",
    "    legend_name='Area covered by buildings (%)',\n",
    "    nan_fill_color='gray'\n",
    ").add_to(m4)\n",
    "\n",
    "# Adding tooltips\n",
    "folium.GeoJson(\n",
    "    rio_exported,\n",
    "    style_function= lambda feature: {\n",
    "        'fillOpacity': 0,\n",
    "        'opacity': 0\n",
    "    },\n",
    "    tooltip=folium.GeoJsonTooltip(\n",
    "        fields=['name', 'building_pct'],\n",
    "        aliases=['Name', 'Building cover (%)']\n",
    "    )\n",
    "\n",
    ").add_to(m4)\n",
    "\n",
    "# Exporting the map\n",
    "m4.save('saved_maps/building_density.html')"
   ]
  },
  {
   "cell_type": "markdown",
   "id": "Kclp",
   "metadata": {
    "marimo": {
     "config": {
      "hide_code": true
     }
    }
   },
   "source": [
    "#### Favelas and Green Space Density"
   ]
  },
  {
   "cell_type": "code",
   "execution_count": null,
   "id": "emfo",
   "metadata": {},
   "outputs": [],
   "source": [
    "# Creating the base map\n",
    "m5 = folium.Map([-22.90, -43.40], zoom_start=10)\n",
    "\n",
    "# Data selection for choropleth mapping\n",
    "choropleth_2 = rio_exported.copy()\n",
    "choropleth_2['green_density'] = (choropleth_2['green_density']) / 10**6\n",
    "choropleth_2 = choropleth_2.set_index('id')['green_density']\n",
    "\n",
    "# Adding the choropleth layer\n",
    "folium.Choropleth(\n",
    "    geo_data=rio_exported,\n",
    "    data=choropleth_2,\n",
    "    key_on='feature.id',\n",
    "    fill_color='RdYlGn',\n",
    "    fill_opacity=0.8,\n",
    "    line_opacity=0.2,\n",
    "    legend_name='Green space per 1000 people (sq. km)',\n",
    "    nan_fill_color='gray'\n",
    ").add_to(m5)\n",
    "\n",
    "# Adding tooltips\n",
    "folium.GeoJson(\n",
    "    rio_exported,\n",
    "    style_function= lambda feature: {\n",
    "        'fillOpacity': 0,\n",
    "        'opacity': 0\n",
    "    },\n",
    "    tooltip=folium.GeoJsonTooltip(\n",
    "        fields=['name', 'green_density'],\n",
    "        aliases=['Name', 'Green space per 1000 people (sq. m.)']\n",
    "    )\n",
    ").add_to(m5)\n",
    "\n",
    "# Exporting the map\n",
    "m5.save('saved_maps/green_density.html')"
   ]
  },
  {
   "cell_type": "markdown",
   "id": "Hstk",
   "metadata": {
    "marimo": {
     "config": {
      "hide_code": true
     }
    }
   },
   "source": [
    "#### Public Transport Stop Density"
   ]
  },
  {
   "cell_type": "code",
   "execution_count": null,
   "id": "nWHF",
   "metadata": {},
   "outputs": [],
   "source": [
    "# Creating the base map\n",
    "m6 = folium.Map([-22.90, -43.40], zoom_start=10)\n",
    "\n",
    "# Data selection for choropleth mapping\n",
    "choropleth_3 = rio_exported.set_index('id')['transit_density']\n",
    "\n",
    "# Adding the choropleth layer\n",
    "folium.Choropleth(\n",
    "    geo_data=rio_exported,\n",
    "    data=choropleth_3,\n",
    "    key_on='feature.id',\n",
    "    fill_color='RdYlGn',\n",
    "    fill_opacity=0.8,\n",
    "    line_opacity=0.2,\n",
    "    legend_name='Number of transit stops (per 1000 people)',\n",
    "    nan_fill_color='gray'\n",
    ").add_to(m6)\n",
    "\n",
    "# Adding tooltips\n",
    "folium.GeoJson(\n",
    "    rio_exported,\n",
    "    style_function= lambda feature: {\n",
    "        'fillOpacity': 0,\n",
    "        'opacity': 0\n",
    "    },\n",
    "    tooltip=folium.GeoJsonTooltip(\n",
    "        fields=['name', 'transit_density'],\n",
    "        aliases=['Name', 'Number of transit stops (per 1000 people)']\n",
    "    )\n",
    ").add_to(m6)\n",
    "\n",
    "# Exporting the map\n",
    "m6.save('saved_maps/transit_density.html')"
   ]
  },
  {
   "cell_type": "markdown",
   "id": "iLit",
   "metadata": {
    "marimo": {
     "config": {
      "hide_code": true
     }
    }
   },
   "source": [
    "#### Health Units Density"
   ]
  },
  {
   "cell_type": "code",
   "execution_count": null,
   "id": "ZHCJ",
   "metadata": {},
   "outputs": [],
   "source": [
    "# Creating the base map\n",
    "m7 = folium.Map([-22.90, -43.40], zoom_start=10)\n",
    "\n",
    "# Data selection for choropleth mapping\n",
    "choropleth_4 = rio_exported.set_index('id')['health_density']\n",
    "\n",
    "# Adding the choropleth layer\n",
    "folium.Choropleth(\n",
    "    geo_data=rio_exported,\n",
    "    data=choropleth_4,\n",
    "    key_on='feature.id',\n",
    "    fill_color='RdYlGn',\n",
    "    fill_opacity=0.8,\n",
    "    line_opacity=0.2,\n",
    "    legend_name='Number of health units (per 1000 people)',\n",
    "    nan_fill_color='gray'\n",
    ").add_to(m7)\n",
    "\n",
    "# Adding tooltips\n",
    "folium.GeoJson(\n",
    "    rio_exported,\n",
    "    style_function=lambda feature: {\n",
    "        'fillOpacity': 0,\n",
    "        'opacity': 0\n",
    "    },\n",
    "    tooltip=folium.GeoJsonTooltip(\n",
    "        fields=['name', 'health_density'],\n",
    "        aliases=['Name', 'Number of health units (per 1000 people)']\n",
    "    )\n",
    ").add_to(m7)\n",
    "\n",
    "# Exporting the results\n",
    "m7.save('saved_maps/health_density.html')"
   ]
  },
  {
   "cell_type": "markdown",
   "id": "ROlb",
   "metadata": {
    "marimo": {
     "config": {
      "hide_code": true
     }
    }
   },
   "source": [
    "#### School Density"
   ]
  },
  {
   "cell_type": "code",
   "execution_count": null,
   "id": "qnkX",
   "metadata": {},
   "outputs": [],
   "source": [
    "# Creating the base map\n",
    "m8 = folium.Map([-22.90, -43.40], zoom_start=10)\n",
    "\n",
    "# Data selection for choropleth mapping\n",
    "choropleth_5 = rio_exported.set_index('id')['school_density']\n",
    "\n",
    "# Adding the choropleth layer\n",
    "folium.Choropleth(\n",
    "    geo_data=rio_exported,\n",
    "    data=choropleth_5,\n",
    "    key_on='feature.id',\n",
    "    fill_color='RdYlGn',\n",
    "    fill_opacity=0.8,\n",
    "    line_opacity=0.2,\n",
    "    legend_name='Number of schools (per 1000 people)',\n",
    "    nan_fill_color='gray'\n",
    ").add_to(m8)\n",
    "\n",
    "# Adding tooltips\n",
    "folium.GeoJson(\n",
    "    rio_exported,\n",
    "    style_function= lambda feature: {\n",
    "        'fillOpacity': 0,\n",
    "        'opacity': 0\n",
    "    },\n",
    "    tooltip=folium.GeoJsonTooltip(\n",
    "        fields=['name', 'school_density'],\n",
    "        aliases=['Name', 'Number of schools (per 1000 people)']\n",
    "    )\n",
    ").add_to(m8)\n",
    "\n",
    "# Exporting the map\n",
    "m8.save('saved_maps/school_density.html')"
   ]
  },
  {
   "cell_type": "markdown",
   "id": "a73216e8-ed19-4825-b3dd-9627c4cc9af6",
   "metadata": {},
   "source": [
    "### Agricultural Field Boundary Detection"
   ]
  },
  {
   "cell_type": "code",
   "execution_count": 16,
   "id": "430a2072-70a7-444c-9e89-587ab1c60a9b",
   "metadata": {},
   "outputs": [],
   "source": [
    "m9 = folium.Map(location=[52.66, 5.81], zoom_start=13)\n",
    "\n",
    "img3 = folium.raster_layers.ImageOverlay(\n",
    "    name='Field Boundaries',\n",
    "    image='data/fields/parcels.jpg',\n",
    "    bounds=[[52.6485999739999997, 5.7861671079999999],[52.6847617179999972, 5.8456447450000004]],\n",
    "    opacity=1,\n",
    "    zindex=2\n",
    ").add_to(m9)\n",
    "\n",
    "img4 = folium.raster_layers.ImageOverlay(\n",
    "    name='Ens Satellite',\n",
    "    image='data/fields/fields.jpg',\n",
    "    bounds=[[52.6485999739999997, 5.7861671079999999],[52.6847617179999972, 5.8456447450000004]],\n",
    "    opacity=0.5,\n",
    "    zindex=1\n",
    ").add_to(m9)\n",
    "\n",
    "folium.LayerControl().add_to(m9)\n",
    "\n",
    "m9.save('saved_maps/fields.html')"
   ]
  }
 ],
 "metadata": {
  "kernelspec": {
   "display_name": "Python",
   "language": "python",
   "name": "python3"
  },
  "language_info": {
   "codemirror_mode": {
    "name": "ipython",
    "version": 3
   },
   "file_extension": ".py",
   "mimetype": "text/x-python",
   "name": "python",
   "nbconvert_exporter": "python",
   "pygments_lexer": "ipython3",
   "version": "3.8.10"
  }
 },
 "nbformat": 4,
 "nbformat_minor": 5
}
